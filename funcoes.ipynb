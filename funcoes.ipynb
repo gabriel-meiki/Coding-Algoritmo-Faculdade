{
  "nbformat": 4,
  "nbformat_minor": 0,
  "metadata": {
    "colab": {
      "provenance": [],
      "authorship_tag": "ABX9TyPLP2ubZSHdvTq/HKQuEsAx",
      "include_colab_link": true
    },
    "kernelspec": {
      "name": "python3",
      "display_name": "Python 3"
    },
    "language_info": {
      "name": "python"
    }
  },
  "cells": [
    {
      "cell_type": "markdown",
      "metadata": {
        "id": "view-in-github",
        "colab_type": "text"
      },
      "source": [
        "<a href=\"https://colab.research.google.com/github/gabriel-meiki/Coding-Algoritmo-Faculdade/blob/main/funcoes.ipynb\" target=\"_parent\"><img src=\"https://colab.research.google.com/assets/colab-badge.svg\" alt=\"Open In Colab\"/></a>"
      ]
    },
    {
      "cell_type": "code",
      "execution_count": 2,
      "metadata": {
        "colab": {
          "base_uri": "https://localhost:8080/"
        },
        "id": "e2GuD1zpd1s1",
        "outputId": "bb8c4981-ed62-489e-b650-d9e64aa16f55"
      },
      "outputs": [
        {
          "output_type": "stream",
          "name": "stdout",
          "text": [
            "Número  1\n",
            "Número  2\n",
            "Número  3\n",
            "Número  4\n",
            "Número  5\n"
          ]
        }
      ],
      "source": [
        "def funcaoLeitura():  # função serve para automatizar algo que se repita e fazer toda vez aquela ação que se repita\n",
        "  for num in [1, 2, 3, 4, 5]:\n",
        "    print('Número ', num)\n",
        "\n",
        "funcaoLeitura()"
      ]
    },
    {
      "cell_type": "code",
      "source": [
        "def funcaoLeitura():\n",
        "  for num in range(5):\n",
        "    print('Número ', num)\n",
        "\n",
        "funcaoLeitura()"
      ],
      "metadata": {
        "colab": {
          "base_uri": "https://localhost:8080/"
        },
        "id": "bBPx4NnqfxWf",
        "outputId": "ed85040c-e8a8-4072-cc72-4b9eefe0c944"
      },
      "execution_count": 4,
      "outputs": [
        {
          "output_type": "stream",
          "name": "stdout",
          "text": [
            "Número  0\n",
            "Número  1\n",
            "Número  2\n",
            "Número  3\n",
            "Número  4\n"
          ]
        }
      ]
    },
    {
      "cell_type": "code",
      "source": [
        "def adicionarNum(n1, n2):\n",
        "  print(\"O primeiro número é: \", n1)\n",
        "  print('O segundo número é: ', n2)\n",
        "  print('A soma número é: ', (n1+n2))"
      ],
      "metadata": {
        "id": "WIio1qVIgr1r"
      },
      "execution_count": 9,
      "outputs": []
    },
    {
      "cell_type": "code",
      "source": [
        "adicionarNum()"
      ],
      "metadata": {
        "colab": {
          "base_uri": "https://localhost:8080/",
          "height": 141
        },
        "id": "ccHm9QqehrXv",
        "outputId": "b95c8eeb-ec65-409e-87bc-660a43c38272"
      },
      "execution_count": 10,
      "outputs": [
        {
          "output_type": "error",
          "ename": "TypeError",
          "evalue": "adicionarNum() missing 2 required positional arguments: 'n1' and 'n2'",
          "traceback": [
            "\u001b[0;31m---------------------------------------------------------------------------\u001b[0m",
            "\u001b[0;31mTypeError\u001b[0m                                 Traceback (most recent call last)",
            "\u001b[0;32m<ipython-input-10-c36fdbb88e6d>\u001b[0m in \u001b[0;36m<cell line: 1>\u001b[0;34m()\u001b[0m\n\u001b[0;32m----> 1\u001b[0;31m \u001b[0madicionarNum\u001b[0m\u001b[0;34m(\u001b[0m\u001b[0;34m)\u001b[0m\u001b[0;34m\u001b[0m\u001b[0;34m\u001b[0m\u001b[0m\n\u001b[0m",
            "\u001b[0;31mTypeError\u001b[0m: adicionarNum() missing 2 required positional arguments: 'n1' and 'n2'"
          ]
        }
      ]
    },
    {
      "cell_type": "code",
      "source": [
        "adicionarNum(3, 4)"
      ],
      "metadata": {
        "colab": {
          "base_uri": "https://localhost:8080/"
        },
        "id": "aNOlLY0Hh3N1",
        "outputId": "c3bf2e23-4ec5-4f95-9363-e4bc0a64d549"
      },
      "execution_count": 11,
      "outputs": [
        {
          "output_type": "stream",
          "name": "stdout",
          "text": [
            "O primeiro número é:  3\n",
            "O segundo número é:  4\n",
            "A soma número é:  7\n"
          ]
        }
      ]
    },
    {
      "cell_type": "code",
      "source": [
        "varGlobal = 10 # Variavel Global\n",
        "\n",
        "def multiplica(num1, num2):\n",
        "  varLocal = num1 + num2\n",
        "  print('Varívale da função Multiplica: ', varLocal)\n",
        "  print(varLocal)"
      ],
      "metadata": {
        "id": "PSDKpbqOjzy2"
      },
      "execution_count": 12,
      "outputs": []
    },
    {
      "cell_type": "code",
      "source": [
        "multiplica(3, 5)"
      ],
      "metadata": {
        "colab": {
          "base_uri": "https://localhost:8080/"
        },
        "id": "0tsdoDV3kPiu",
        "outputId": "34f6dec5-ec3f-478f-d4a4-d975b322f3a2"
      },
      "execution_count": 14,
      "outputs": [
        {
          "output_type": "stream",
          "name": "stdout",
          "text": [
            "Varívale da função Multiplica:  8\n",
            "8\n"
          ]
        }
      ]
    },
    {
      "cell_type": "code",
      "source": [
        "# Quando não sabemois a quantidade de parÂmetros\n",
        "# Quando colocar *, ele vai aceitar todos os parÂmetros dentro dele de uma vez só\n",
        "# Toda função tem um retorno\n",
        "\n",
        "def variosParametros(*parametros):\n",
        "  for n, item in enumerate(parametros):\n",
        "    print(\"Parâmetro\", n, item)\n",
        "  return"
      ],
      "metadata": {
        "id": "Ht_YfnCZoU6n"
      },
      "execution_count": 16,
      "outputs": []
    },
    {
      "cell_type": "code",
      "source": [
        "variosParametros('Luquinhas', 'Madá', 'Giggio')"
      ],
      "metadata": {
        "colab": {
          "base_uri": "https://localhost:8080/"
        },
        "id": "5GD8LvH4o9V-",
        "outputId": "b545b9f5-6a06-4634-b098-382c42e34056"
      },
      "execution_count": 17,
      "outputs": [
        {
          "output_type": "stream",
          "name": "stdout",
          "text": [
            "Parâmetro 0 Luquinhas\n",
            "Parâmetro 1 Madá\n",
            "Parâmetro 2 Giggio\n"
          ]
        }
      ]
    },
    {
      "cell_type": "code",
      "source": [
        "def soma(n1, n2):\n",
        "  return n1+n2\n",
        "\n",
        "def subtrai(n1, n2):\n",
        "  return n1-n2\n",
        "\n",
        "def multiplica(n1, n2):\n",
        "  return n1*n2\n",
        "\n",
        "def divide(n1, n2):\n",
        "  return n1/n2"
      ],
      "metadata": {
        "id": "Gu2o5rJiqhno"
      },
      "execution_count": 26,
      "outputs": []
    },
    {
      "cell_type": "code",
      "source": [
        "soma(1, 2)"
      ],
      "metadata": {
        "colab": {
          "base_uri": "https://localhost:8080/"
        },
        "id": "JQml1P80qnCT",
        "outputId": "29c4609d-b0a7-4ce5-aba2-57be3292d016"
      },
      "execution_count": 22,
      "outputs": [
        {
          "output_type": "execute_result",
          "data": {
            "text/plain": [
              "3"
            ]
          },
          "metadata": {},
          "execution_count": 22
        }
      ]
    },
    {
      "cell_type": "code",
      "source": [
        "subtrai(1, 2)"
      ],
      "metadata": {
        "colab": {
          "base_uri": "https://localhost:8080/"
        },
        "id": "7LMxwDLsrCz3",
        "outputId": "d15e8b3a-30c8-41c5-a030-507aa52c2be4"
      },
      "execution_count": 23,
      "outputs": [
        {
          "output_type": "execute_result",
          "data": {
            "text/plain": [
              "-1"
            ]
          },
          "metadata": {},
          "execution_count": 23
        }
      ]
    },
    {
      "cell_type": "code",
      "source": [
        "multiplica(1, 2)"
      ],
      "metadata": {
        "colab": {
          "base_uri": "https://localhost:8080/"
        },
        "id": "X1tVGM_yrGCj",
        "outputId": "96cb1790-b515-4c10-cfda-e36e1930db64"
      },
      "execution_count": 24,
      "outputs": [
        {
          "output_type": "execute_result",
          "data": {
            "text/plain": [
              "2"
            ]
          },
          "metadata": {},
          "execution_count": 24
        }
      ]
    },
    {
      "cell_type": "code",
      "source": [
        "divide(1, 2)"
      ],
      "metadata": {
        "colab": {
          "base_uri": "https://localhost:8080/"
        },
        "id": "33iFoOShrG4G",
        "outputId": "e3fc5889-906c-4a2e-bd03-ed5cf654afaa"
      },
      "execution_count": 27,
      "outputs": [
        {
          "output_type": "execute_result",
          "data": {
            "text/plain": [
              "0.5"
            ]
          },
          "metadata": {},
          "execution_count": 27
        }
      ]
    },
    {
      "cell_type": "code",
      "source": [
        "while True:\n",
        "  print(\"+===================+\")\n",
        "  print(\"| MENU DE OPERAÇÕES |\")\n",
        "  print(\"|  1 - Somar        |\")\n",
        "  print(\"|  2 - Subtrair     |\")\n",
        "  print(\"|  3 - Multiplicar  |\")\n",
        "  print(\"|  4 - Dividir      |\")\n",
        "  print(\"|  0 - Sair         |\")\n",
        "  print(\"+===================+\")\n",
        "\n",
        "  op = int(input('Digite o número da operação: '))\n",
        "\n",
        "  if op == 0:\n",
        "    break\n",
        "  elif (op!=1 and op!=2 and op!=3 and op!=4):\n",
        "    print('Operação inválidaaaaaaaaaaaaaaaaaaaa')\n",
        "\n",
        "  else:\n",
        "    n1 = int(input('Primeiro número: '))\n",
        "    n2 = int(input('Segundo número: '))\n",
        "    if op == 1:\n",
        "      print(f'O valor da soma entre {n1} e {n2} equivale {soma(n1, n2)}')\n",
        "    elif op == 2:\n",
        "      print(f'O valor da subtração entre {n1} e {n2} equivale {subtrai(n1, n2)}')\n",
        "    elif op == 3:\n",
        "      print(f'O valor da multiplicação entre {n1} e {n2} equivale {multiplica(n1, n2)}')\n",
        "    elif op == 4:\n",
        "      print(f'O valor da divisão entre {n1} e {n2} equivale {divide(n1, n2)}')\n",
        "    else:\n",
        "      print('Operação inválida')"
      ],
      "metadata": {
        "colab": {
          "base_uri": "https://localhost:8080/"
        },
        "id": "82VL5LGvrWuL",
        "outputId": "6985038e-55db-4244-d811-b345cc38f95d"
      },
      "execution_count": 41,
      "outputs": [
        {
          "name": "stdout",
          "output_type": "stream",
          "text": [
            "+===================+\n",
            "| MENU DE OPERAÇÕES |\n",
            "|  1 - Somar        |\n",
            "|  2 - Subtrair     |\n",
            "|  3 - Multiplicar  |\n",
            "|  4 - Dividir      |\n",
            "|  0 - Sair         |\n",
            "+===================+\n",
            "Digite o número da operação: 1\n",
            "Primeiro número: 69\n",
            "Segundo número: 69\n",
            "O valor da soma entre 69 e 69 equivale 138\n",
            "+===================+\n",
            "| MENU DE OPERAÇÕES |\n",
            "|  1 - Somar        |\n",
            "|  2 - Subtrair     |\n",
            "|  3 - Multiplicar  |\n",
            "|  4 - Dividir      |\n",
            "|  0 - Sair         |\n",
            "+===================+\n",
            "Digite o número da operação: 0\n"
          ]
        }
      ]
    }
  ]
}