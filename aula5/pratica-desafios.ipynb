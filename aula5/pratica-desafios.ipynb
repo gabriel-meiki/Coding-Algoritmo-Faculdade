{
 "cells": [
  {
   "cell_type": "code",
   "execution_count": 1,
   "metadata": {},
   "outputs": [
    {
     "name": "stdout",
     "output_type": "stream",
     "text": [
      "O valor do carro é R$100.0 e o valor do imposto do carro é 1.5\n"
     ]
    }
   ],
   "source": [
    "# DETRAN cobra uma taxa de 1% para carros fabricados antes de 1990.\n",
    "# DETRAN cobra uma taxa de 1,5% para os carros fabricados após 1990 (1990 adiante)\n",
    "# a taxa está em relação ao valor do carro\n",
    "\n",
    "# algoritmo ler o ano\n",
    "ano_carro = int(input('Qual o ano do seu carro? '))\n",
    "\n",
    "# algoritmo ler o preço do carro\n",
    "preco_carro = float(input('Qual o valor do carro? '))\n",
    "\n",
    "# calcula e imprime o imposto a ser pago\n",
    "\n",
    "if (ano_carro < 1990): # calculará o valor caso o carro seja antes de 1990\n",
    "    imposto = preco_carro / 100\n",
    "    print(f'O valor do carro é R${preco_carro} e o valor do imposto do carro é {imposto}')\n",
    "else: # calculará o valor caso o carro seja depois de 1990\n",
    "    imposto = preco_carro / 100 * 1.5\n",
    "    print(f'O valor do carro é R${preco_carro} e o valor do imposto do carro é {imposto}')"
   ]
  },
  {
   "cell_type": "markdown",
   "metadata": {},
   "source": []
  },
  {
   "cell_type": "code",
   "execution_count": 12,
   "metadata": {},
   "outputs": [
    {
     "name": "stdout",
     "output_type": "stream",
     "text": [
      "Seu salário antigo é R$1000.0, seu salário novo é R$1100.0, houve um aumento de 100.0 reais.\n"
     ]
    }
   ],
   "source": [
    "salario_antigo = float(input('Digite seu salário: '))\n",
    "\n",
    "codigo = int(input('Digite seu código: '))\n",
    "\n",
    "if(codigo == 101):\n",
    "    salario_novo = salario_antigo * 1.1\n",
    "    diferenca = salario_novo - salario_antigo\n",
    "elif (codigo == 102):\n",
    "    salario_novo = salario_antigo * 1.2\n",
    "    diferenca = salario_novo - salario_antigo\n",
    "elif (codigo == 103):\n",
    "    salario_novo = salario_antigo * 1.3\n",
    "    diferenca = salario_novo - salario_antigo\n",
    "else:\n",
    "    salario_novo = salario_antigo * 1.4\n",
    "    diferenca = salario_novo - salario_antigo\n",
    "\n",
    "print(f'Seu salário antigo é R${salario_antigo}, seu salário novo é R${salario_novo}, houve um aumento de {diferenca} reais.')"
   ]
  }
 ],
 "metadata": {
  "kernelspec": {
   "display_name": "Python 3",
   "language": "python",
   "name": "python3"
  },
  "language_info": {
   "codemirror_mode": {
    "name": "ipython",
    "version": 3
   },
   "file_extension": ".py",
   "mimetype": "text/x-python",
   "name": "python",
   "nbconvert_exporter": "python",
   "pygments_lexer": "ipython3",
   "version": "3.11.9"
  }
 },
 "nbformat": 4,
 "nbformat_minor": 2
}
