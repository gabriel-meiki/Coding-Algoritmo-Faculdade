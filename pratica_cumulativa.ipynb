{
  "nbformat": 4,
  "nbformat_minor": 0,
  "metadata": {
    "colab": {
      "provenance": [],
      "authorship_tag": "ABX9TyMxeI4eBqBf65JAN/d78wuQ",
      "include_colab_link": true
    },
    "kernelspec": {
      "name": "python3",
      "display_name": "Python 3"
    },
    "language_info": {
      "name": "python"
    }
  },
  "cells": [
    {
      "cell_type": "markdown",
      "metadata": {
        "id": "view-in-github",
        "colab_type": "text"
      },
      "source": [
        "<a href=\"https://colab.research.google.com/github/gabriel-meiki/Coding-Algoritmo-Faculdade/blob/main/pratica_cumulativa.ipynb\" target=\"_parent\"><img src=\"https://colab.research.google.com/assets/colab-badge.svg\" alt=\"Open In Colab\"/></a>"
      ]
    },
    {
      "cell_type": "code",
      "execution_count": 1,
      "metadata": {
        "colab": {
          "base_uri": "https://localhost:8080/"
        },
        "id": "TDm-FnMzp6VX",
        "outputId": "3c76b4de-6d23-4b77-8305-f6ea5fb93f7d"
      },
      "outputs": [
        {
          "output_type": "stream",
          "name": "stdout",
          "text": [
            "Digite uma letra: [w\n",
            "Consoante\n"
          ]
        }
      ],
      "source": [
        "# verificando se letra é vogal ou consoante\n",
        "vogais = ['a', 'e', 'i', 'o', 'u']\n",
        "\n",
        "letra = input(\"Digite uma letra: \")\n",
        "if (letra in vogais):\n",
        "    print(\"Vogal\")\n",
        "else:\n",
        "    print(\"Consoante\")"
      ]
    },
    {
      "cell_type": "code",
      "source": [
        "# programa que pergunta o valor de três produtos e diz qual é o mais caro\n",
        "\n",
        "produto1 = int(input(\"Quanto custa o p1? \"))\n",
        "produto2 = int(input(\"Quanto custa o p2? \"))\n",
        "produto3 = int(input(\"Quanto custa o p3? \"))\n",
        "\n",
        "if ( produto1 < produto2 and produto1 < produto3):\n",
        "    print(\"O mais barato é o produto 1\")\n",
        "elif (produto2  < produto1 and produto2 < produto3):\n",
        "    print(\"O mais barato é o produto 2\")\n",
        "elif (produto3 < produto2 and produto3 < produto1):\n",
        "    print(\"O mais barato é o produto 3\")\n",
        "else:\n",
        "    print(\"Não há um mais caro\")"
      ],
      "metadata": {
        "colab": {
          "base_uri": "https://localhost:8080/"
        },
        "id": "DNvqboi3rAlH",
        "outputId": "2a2c583e-2d8d-4927-bc92-8b2f35e06932"
      },
      "execution_count": 3,
      "outputs": [
        {
          "output_type": "stream",
          "name": "stdout",
          "text": [
            "Quanto custa o p1?4\n",
            "Quanto custa o p2?4\n",
            "Quanto custa o p3?2\n",
            "O mais barato é o produto 3\n"
          ]
        }
      ]
    },
    {
      "cell_type": "code",
      "source": [
        "# Pergunta três número e diz a ordem decrescente\n",
        "\n",
        "numeros = [int(input(\"Digite um número: \")) for _ in range(3)]\n",
        "\n",
        "numeros.sort(reverse=True)\n",
        "\n",
        "print(numeros)"
      ],
      "metadata": {
        "colab": {
          "base_uri": "https://localhost:8080/"
        },
        "id": "L4PP86Qarf-H",
        "outputId": "8b78ec25-a8cf-495d-b2c2-d12bdc3a6d45"
      },
      "execution_count": 2,
      "outputs": [
        {
          "output_type": "stream",
          "name": "stdout",
          "text": [
            "Digite um número: 2\n",
            "Digite um número: 1\n",
            "Digite um número: 4\n",
            "[4, 2, 1]\n"
          ]
        }
      ]
    },
    {
      "cell_type": "code",
      "source": [
        "# De acordo com valor digitado \"M/V/N\" lhe apresentará bom dia, boa tarde, boa noite.\n",
        "\n",
        "manha = {'m'}\n",
        "vespertino = {'v'}\n",
        "noturno = {'n'}\n",
        "\n",
        "hora = input(\"Digite a inicial do turno: \")\n",
        "if(hora in manha):\n",
        "    print(\"Bom dia\")\n",
        "elif (hora in vespertino):\n",
        "    print(\"Boa tarde!\")\n",
        "elif(hora in noturno):\n",
        "    print(\"Boa noite!\")\n",
        "else:\n",
        "    print(\"Valor inválido\")"
      ],
      "metadata": {
        "colab": {
          "base_uri": "https://localhost:8080/"
        },
        "id": "3HZgxPmTsJjr",
        "outputId": "2de3011d-ad86-476c-d9b9-77dd6f3b7a24"
      },
      "execution_count": 6,
      "outputs": [
        {
          "output_type": "stream",
          "name": "stdout",
          "text": [
            "Digite a inicial do turno: n\n",
            "Boa noite!\n"
          ]
        }
      ]
    },
    {
      "cell_type": "code",
      "source": [
        "# Digite o valor e logo mostrará o dia respectivo do valor digitado.\n",
        "\n",
        "dia = int(input(\"Qual o dia da semana? \"))\n",
        "if (dia == 1):\n",
        "    print(\"Domingo\")\n",
        "elif (dia == 2):\n",
        "    print(\"Segunda\")\n",
        "elif (dia == 3):\n",
        "    print(\"Terça\")\n",
        "elif (dia == 4):\n",
        "    print(\"Quarta\")\n",
        "elif (dia == 5):\n",
        "    print(\"Quinta\")\n",
        "elif (dia == 6):\n",
        "    print(\"Sexta\")\n",
        "elif (dia == 7):\n",
        "    print(\"Sábado\")\n",
        "else:\n",
        "    print(\"Valor inválido\")"
      ],
      "metadata": {
        "colab": {
          "base_uri": "https://localhost:8080/"
        },
        "id": "SHbSAEkTrznh",
        "outputId": "66213349-0245-4662-a33b-50a9204e2ace"
      },
      "execution_count": 7,
      "outputs": [
        {
          "output_type": "stream",
          "name": "stdout",
          "text": [
            "Qual o dia da semana?3\n",
            "Terça\n"
          ]
        }
      ]
    },
    {
      "cell_type": "code",
      "source": [
        "nota1 = float(input(\"Qual a 1a nota? \"))\n",
        "nota2 = float(input(\"Qual a 2a nota? \"))\n",
        "\n",
        "media = (nota1 + nota2)\n",
        "conceito = media / 2\n",
        "\n",
        "if(conceito<=10 and conceito>= 9):\n",
        "    print(\"Conceito A, aprovado\",\",\" ,\"notas:\",nota1, \"E\", nota2,\",\", \"Média:\", conceito)\n",
        "elif(conceito<=9 and conceito>= 7.5):\n",
        "    print(\"Conceito B, aprovado\",\",\" ,\"notas:\",nota1, \"E\", nota2,\",\", \"Média:\", conceito)\n",
        "elif(conceito<=6 and conceito>= 7.5):\n",
        "    print(\"Conceito C, aprovado\",\",\" ,\"notas:\",nota1, \"E\", nota2,\",\", \"Média:\", conceito)\n",
        "elif(conceito>=4 and conceito<= 6):\n",
        "    print(\"Conceito D, reprovado\",\",\" ,\"notas:\",nota1, \"E\", nota2,\",\", \"Média:\", conceito)\n",
        "elif(conceito<=4 and conceito>= 0):\n",
        "    print(\"Conceito E, reprovado\",\",\" ,\"notas:\",nota1, \"E\", nota2,\",\", \"Média:\", conceito)\n",
        "else:\n",
        "    print(\"Há algum erro\")"
      ],
      "metadata": {
        "colab": {
          "base_uri": "https://localhost:8080/"
        },
        "id": "WSKYrSOxsgcp",
        "outputId": "142aac9e-7bd9-4bcc-e3e2-a889b55fd5a4"
      },
      "execution_count": 8,
      "outputs": [
        {
          "output_type": "stream",
          "name": "stdout",
          "text": [
            "Qual a 1a nota? 8\n",
            "Qual a 2a nota? 3\n",
            "Conceito D, reprovado , notas: 8.0 E 3.0 , Média: 5.5\n"
          ]
        }
      ]
    },
    {
      "cell_type": "code",
      "source": [
        "ano = int(input(\"Qual o ano? \"))\n",
        "\n",
        "if(ano % 4 == 0):\n",
        "    print(\"É bissexto\")\n",
        "else:\n",
        "    print(\"Não é bissexto\")"
      ],
      "metadata": {
        "colab": {
          "base_uri": "https://localhost:8080/"
        },
        "id": "RvujbW3BsmbE",
        "outputId": "785abd62-7ac0-4246-aca7-a359bf9f6257"
      },
      "execution_count": 10,
      "outputs": [
        {
          "output_type": "stream",
          "name": "stdout",
          "text": [
            "Qual o ano? 2022\n",
            "Não é bissexto\n"
          ]
        }
      ]
    },
    {
      "cell_type": "code",
      "source": [
        "numero1 = float(input(\"Digite um número: \"))\n",
        "numero2 = float(input(\"Digite outro número: \"))\n",
        "operacao = input(\"Qual operação (+, -, * ou /) você deseja realizar? \")\n",
        "\n",
        "if operacao == \"+\":\n",
        "    resultado = numero1 + numero2\n",
        "elif operacao == \"-\":\n",
        "    resultado = numero1 - numero2\n",
        "elif operacao == \"*\":\n",
        "    resultado = numero1 * numero2\n",
        "elif operacao == \"/\":\n",
        "    resultado = numero1 / numero2\n",
        "else:\n",
        "    resultado = 0\n",
        "\n",
        "print(\"O resultado é: \", resultado)\n",
        "\n",
        "if (resultado // 1) % 2 == 0:\n",
        "    print(\"Par\")\n",
        "else:\n",
        "    print(\"Ímpar\")\n",
        "\n",
        "if resultado >= 0:\n",
        "    print(\"Positivo\")\n",
        "else:\n",
        "    print(\"Negativo\")\n",
        "\n",
        "if resultado % 1 == 0:\n",
        "    print(\"Inteiro\")\n",
        "else:\n",
        "    print(\"Decimal\")"
      ],
      "metadata": {
        "colab": {
          "base_uri": "https://localhost:8080/"
        },
        "id": "M6wvIqgLsonE",
        "outputId": "8fe35af5-52d0-4195-ec49-e2e644dccb0d"
      },
      "execution_count": 11,
      "outputs": [
        {
          "output_type": "stream",
          "name": "stdout",
          "text": [
            "Digite um número: 76\n",
            "Digite outro número: 31\n",
            "Qual operação (+, -, * ou /) você deseja realizar? +\n",
            "O resultado é:  107.0\n",
            "Ímpar\n",
            "Positivo\n",
            "Inteiro\n"
          ]
        }
      ]
    },
    {
      "cell_type": "code",
      "source": [
        "valor = float(input(\"Olá! O valor precisa estar entre 0 e 150. Pode digitar seu valor: \"))\n",
        "\n",
        "if(valor >= 0 and valor <=150):\n",
        "    print(\"Valor válido\")\n",
        "else:\n",
        "    print(\"Valor inválido\")"
      ],
      "metadata": {
        "colab": {
          "base_uri": "https://localhost:8080/"
        },
        "id": "yix6nCcSswla",
        "outputId": "b9cf19cc-dc8a-4d51-9262-7e6241368c95"
      },
      "execution_count": 12,
      "outputs": [
        {
          "output_type": "stream",
          "name": "stdout",
          "text": [
            "Olá! O valor precisa estar entre 0 e 150. Pode digitar seu valor:43\n",
            "Valor válido\n"
          ]
        }
      ]
    },
    {
      "cell_type": "code",
      "source": [
        "nu1 = float(input(\"Digite o 1o número: \"))\n",
        "nu2 = float(input(\"Digite o 1o número: \"))\n",
        "nu3 = float(input(\"Digite o 3o número: \"))\n",
        "nu4 = float(input(\"Digite o 4o número: \"))\n",
        "nu5 = float(input(\"Digite o 5o número: \"))\n",
        "\n",
        "soma = (nu1 + nu2 + nu3 + nu4 + nu5)\n",
        "media = soma / 5\n",
        "print(media)"
      ],
      "metadata": {
        "colab": {
          "base_uri": "https://localhost:8080/"
        },
        "id": "H9TGZTWDsxQJ",
        "outputId": "780bb3fc-5b84-4c9e-a60f-3beede05284b"
      },
      "execution_count": 14,
      "outputs": [
        {
          "output_type": "stream",
          "name": "stdout",
          "text": [
            "Digite o 1o número: 10\n",
            "Digite o 1o número: 10\n",
            "Digite o 3o número: 10\n",
            "Digite o 4o número: 10\n",
            "Digite o 5o número: 10\n",
            "10.0\n"
          ]
        }
      ]
    },
    {
      "cell_type": "code",
      "source": [
        "nu1 = int(input(\"Digite um número positivo: \"))\n",
        "\n",
        "if nu1 <= 1:\n",
        "  print(f\"{nu1} não é primo.\")\n",
        "else:\n",
        "  é_primo = True\n",
        "  for i in range(2, int(nu1 ** 0.5) + 1):\n",
        "    if nu1 % i == 0:\n",
        "      é_primo = False\n",
        "      break\n",
        "\n",
        "  if é_primo:\n",
        "    print(f\"{nu1} é primo.\")\n",
        "  else:\n",
        "    print(f\"{nu1} não é um número primo.\")"
      ],
      "metadata": {
        "colab": {
          "base_uri": "https://localhost:8080/"
        },
        "id": "1W1Wljbas1VK",
        "outputId": "9f073579-cc12-4ef3-f0cf-db84606cec17"
      },
      "execution_count": 15,
      "outputs": [
        {
          "output_type": "stream",
          "name": "stdout",
          "text": [
            "Digite um número positivo: 12\n",
            "12 não é um número primo.\n"
          ]
        }
      ]
    },
    {
      "cell_type": "code",
      "source": [
        "temperatura = [float(input(\"Digite uma temperatura: \")) for _ in range(5)]\n",
        "\n",
        "menor_temperatura = min(temperatura)\n",
        "media_temperatura = sum(temperatura) / len(temperatura)\n",
        "\n",
        "print(f\"Menor temperatura: {menor_temperatura:.2f}\")\n",
        "print(f\"Temperatura média: {media_temperatura:.2f}\")"
      ],
      "metadata": {
        "colab": {
          "base_uri": "https://localhost:8080/"
        },
        "id": "LYc8TrrDs3Yb",
        "outputId": "e86a1122-88b7-4a9a-b264-7575cdf0a641"
      },
      "execution_count": 16,
      "outputs": [
        {
          "output_type": "stream",
          "name": "stdout",
          "text": [
            "Digite uma temperatura: 31\n",
            "Digite uma temperatura: 31\n",
            "Digite uma temperatura: 31\n",
            "Digite uma temperatura: 31\n",
            "Digite uma temperatura: 31\n",
            "Menor temperatura: 31.00\n",
            "Temperatura média: 31.00\n"
          ]
        }
      ]
    },
    {
      "cell_type": "code",
      "source": [
        "salario1 = int(input(\"Digite os ultimos 12 salarios: \"))\n",
        "salario2 = int(input(\"Digite os ultimos 12 salarios: \"))\n",
        "salario3 = int(input(\"Digite os ultimos 12 salarios: \"))\n",
        "salario4 = int(input(\"Digite os ultimos 12 salarios: \"))\n",
        "salario5 = int(input(\"Digite os ultimos 12 salarios: \"))\n",
        "salario6 = int(input(\"Digite os ultimos 12 salarios: \"))\n",
        "salario7 = int(input(\"Digite os ultimos 12 salarios: \"))\n",
        "salario8 = int(input(\"Digite os ultimos 12 salarios: \"))\n",
        "salario9 = int(input(\"Digite os ultimos 12 salarios: \"))\n",
        "salario10 = int(input(\"Digite os ultimos 12 salarios: \"))\n",
        "salario11 = int(input(\"Digite os ultimos 12 salarios: \"))\n",
        "salario12 = int(input(\"Digite os ultimos 12 salarios: \"))\n",
        "\n",
        "soma = salario1 + salario2 + salario3 + salario4 + salario5 + salario6 + salario7 + salario8 + salario9 + salario10 + salario11 + salario12\n",
        "media = soma/12\n",
        "\n",
        "if(media <= 200):\n",
        "    print(\"Nenhum crédito\")\n",
        "elif(media >= 201 and media <= 400):\n",
        "    print(\"20% do salário\")\n",
        "elif(media >=401 and media <= 600):\n",
        "    print(\"30% do salário\")\n",
        "else:\n",
        "    print(\"40% do salário\")"
      ],
      "metadata": {
        "colab": {
          "base_uri": "https://localhost:8080/"
        },
        "id": "J8v4EZE2s390",
        "outputId": "1b85b97e-ec11-4b15-c4d8-60efbf73d377"
      },
      "execution_count": 17,
      "outputs": [
        {
          "output_type": "stream",
          "name": "stdout",
          "text": [
            "Digite os ultimos 12 salarios: 1\n",
            "Digite os ultimos 12 salarios: 1\n",
            "Digite os ultimos 12 salarios: 1\n",
            "Digite os ultimos 12 salarios: 1\n",
            "Digite os ultimos 12 salarios: 1\n",
            "Digite os ultimos 12 salarios: 1\n",
            "Digite os ultimos 12 salarios: 1\n",
            "Digite os ultimos 12 salarios: 1\n",
            "Digite os ultimos 12 salarios: 1\n",
            "Digite os ultimos 12 salarios: 1\n",
            "Digite os ultimos 12 salarios: 1\n",
            "Digite os ultimos 12 salarios: 1\n",
            "Nenhum crédito\n"
          ]
        }
      ]
    },
    {
      "cell_type": "code",
      "source": [
        "nome = input(\"Qual seu nome? \")\n",
        "idade = int(input(\"Que ano você nasceu? \"))\n",
        "aposentar = 2024 - idade\n",
        "\n",
        "if(aposentar >= 65):\n",
        "    print(\"Pode se aposentar\")\n",
        "else:\n",
        "    print(\"Muito jovem\")"
      ],
      "metadata": {
        "colab": {
          "base_uri": "https://localhost:8080/"
        },
        "id": "IfRu6o_Vs6uW",
        "outputId": "9fa7019b-d2b0-4641-b85c-8ed2cbf8f111"
      },
      "execution_count": 18,
      "outputs": [
        {
          "output_type": "stream",
          "name": "stdout",
          "text": [
            "Qual seu nome?Gabriel\n",
            "Que ano você nasceu?2005\n",
            "Muito jovem\n"
          ]
        }
      ]
    },
    {
      "cell_type": "code",
      "source": [
        "salario_hora = float(input(\"Digite o valor da sua hora: \"))\n",
        "horas_trabalhadas = float(input(\"Digite a quantidade de horas trabalhadas no mês: \"))\n",
        "\n",
        "bruto = salario_hora * horas_trabalhadas\n",
        "\n",
        "inss = 0.1 * bruto\n",
        "\n",
        "income_tax_deduction = 0\n",
        "if bruto <= 2000:\n",
        "  desconto = 0\n",
        "elif bruto <= 3000:\n",
        "  desconto = 0.08 * (bruto - 2000)\n",
        "elif bruto <= 4000:\n",
        "  desconto = (0.08 * 2000) + (0.18 * (bruto - 3000))\n",
        "else:\n",
        "  desconto = (0.08 * 2000) + (0.18 * 1000) + (0.27 * (bruto - 4000))\n",
        "\n",
        "liquido = bruto - inss - desconto\n",
        "\n",
        "fgts = 0.11 * bruto\n",
        "\n",
        "print(\"\\nFolha de Pagamento:\")\n",
        "print(f\"Bruto: R$ {bruto:.2f}\")\n",
        "print(f\"INSS: R$ {inss:.2f}\")\n",
        "print(f\"Imposto de Renda: R$ {desconto:.2f}\")\n",
        "print(f\"FGTS: R$ {fgts:.2f}\")\n",
        "print(f\"Líquido: R$ {liquido:.2f}\")"
      ],
      "metadata": {
        "colab": {
          "base_uri": "https://localhost:8080/"
        },
        "id": "DIJCZAqAsbUO",
        "outputId": "a466f93c-44df-4d84-aa18-4a6dbeebf310"
      },
      "execution_count": 19,
      "outputs": [
        {
          "output_type": "stream",
          "name": "stdout",
          "text": [
            "Digite o valor da sua hora: 14\n",
            "Digite a quantidade de horas trabalhadas no mês: 14\n",
            "\n",
            "Folha de Pagamento:\n",
            "Bruto: R$ 196.00\n",
            "INSS: R$ 19.60\n",
            "Imposto de Renda: R$ 0.00\n",
            "FGTS: R$ 21.56\n",
            "Líquido: R$ 176.40\n"
          ]
        }
      ]
    }
  ]
}