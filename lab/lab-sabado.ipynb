{
 "cells": [
  {
   "cell_type": "code",
   "execution_count": 13,
   "metadata": {},
   "outputs": [
    {
     "name": "stdout",
     "output_type": "stream",
     "text": [
      "O produto do dobro do número 2 com a metade de 2 equivale 4.0\n",
      "A soma do triplo de 2 com o 3.0 elevado ao cubo equivale 33.0.\n"
     ]
    }
   ],
   "source": [
    "# 1 - Faça uma Programa que peça 2 números inteiros e um número real. Calcule e mostre:\n",
    "\n",
    "numero_inteiro1 = int(input('Digite um número inteiro: '))\n",
    "numero_inteiro2 = int(input('Digite outro número inteiro: '))\n",
    "numero_real = float(input('Digite um número real: '))\n",
    "\n",
    "# 1a) O produto do dobro do primeiro com metade do segundo\n",
    "\n",
    "# dobro do primeiro vezes metade do segundo\n",
    "\n",
    "produto = (numero_inteiro1 * 2) * (numero_inteiro2 / 2)\n",
    "print(f'O produto do dobro do número {numero_inteiro1} com a metade de {numero_inteiro2} equivale {produto}')\n",
    "\n",
    "# 1b) A soma do triplo do primeiro com o terceiro elevado ao cubo\n",
    "soma = (numero_inteiro1 * 3) + (numero_real ** 3)\n",
    "print(f'A soma do triplo de {numero_inteiro1} com o {numero_real} elevado ao cubo equivale {soma}.')"
   ]
  },
  {
   "cell_type": "code",
   "execution_count": 18,
   "metadata": {},
   "outputs": [
    {
     "name": "stdout",
     "output_type": "stream",
     "text": [
      "O primeiro número digitado 8 é maior que o segundo número digitado 2\n"
     ]
    }
   ],
   "source": [
    "# Faça um Prograa que peça dois números e imprima o maior deles\n",
    "\n",
    "numero1 = int(input('Digite um número: '))\n",
    "numero2 = int(input('Digite outro número: '))\n",
    "\n",
    "if (numero1 > numero2):\n",
    "    print(f'O primeiro número digitado {numero1} é maior que o segundo número digitado {numero2}')\n",
    "else:\n",
    "    print(f'O segundo número digitado {numero2} é maior que primeiro número digitado {numero1}')\n"
   ]
  },
  {
   "cell_type": "code",
   "execution_count": 23,
   "metadata": {},
   "outputs": [
    {
     "name": "stdout",
     "output_type": "stream",
     "text": [
      "O número 6.0 é positivo\n"
     ]
    }
   ],
   "source": [
    "# Faça um programa que peça um valor e mostre na tela se o valor é positivo ou negativo.\n",
    "\n",
    "numero_verificar = float(input('Digite um número: '))\n",
    "\n",
    "if (numero_verificar >= 0):\n",
    "    print(f'O número {numero_verificar} é positivo')\n",
    "else:\n",
    "    print(f'O número {numero_verificar} é negativo')"
   ]
  },
  {
   "cell_type": "code",
   "execution_count": 26,
   "metadata": {},
   "outputs": [
    {
     "name": "stdout",
     "output_type": "stream",
     "text": [
      "Reprovado\n"
     ]
    }
   ],
   "source": [
    "# Faça um programa para a leitura de duas notas parciais de um aluno. O programa deve calcular a média alcançada por aluno e apresentar o resultado \"Aprovado\" ou \"Reprovado\". Considere que a escola adota média 7.00.\n",
    "\n",
    "nota1 = float(input('Digite sua primeira nota: '))\n",
    "nota2 = float(input('Digite sua segunda nota: '))\n",
    "\n",
    "media = (nota1 + nota2) / 2\n",
    "\n",
    "if (media >= 7):\n",
    "    print('Aprovado')\n",
    "else:\n",
    "    print('Reprovado')"
   ]
  },
  {
   "cell_type": "code",
   "execution_count": 30,
   "metadata": {},
   "outputs": [
    {
     "name": "stdout",
     "output_type": "stream",
     "text": [
      "O número 9.0 é o maior que os números 1.0 e 5.0.\n"
     ]
    }
   ],
   "source": [
    "# Faça um Programa que leia três números e mostre o maior deles.\n",
    "\n",
    "numero1 = float(input('Digite o primeiro número: '))\n",
    "numero2 = float(input('Digite o segundo número: '))\n",
    "numero3 = float(input('Digite o terceiro número: '))\n",
    "\n",
    "if (numero1 > numero2 and numero1 > numero3):\n",
    "    print(f'O número {numero1} é o maior que os números {numero2} e {numero3}.')\n",
    "elif (numero2 > numero1 and numero2 > numero3):\n",
    "    print(f'O número {numero2} é o maior que os números {numero1} e {numero3}.')\n",
    "else:\n",
    "    print(f'O número {numero3} é o maior que os números {numero1} e {numero2}.')"
   ]
  }
 ],
 "metadata": {
  "kernelspec": {
   "display_name": "Python 3",
   "language": "python",
   "name": "python3"
  },
  "language_info": {
   "codemirror_mode": {
    "name": "ipython",
    "version": 3
   },
   "file_extension": ".py",
   "mimetype": "text/x-python",
   "name": "python",
   "nbconvert_exporter": "python",
   "pygments_lexer": "ipython3",
   "version": "3.12.3"
  }
 },
 "nbformat": 4,
 "nbformat_minor": 2
}
