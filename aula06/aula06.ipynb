{
 "cells": [
  {
   "cell_type": "code",
   "execution_count": null,
   "metadata": {},
   "outputs": [],
   "source": [
    "# Criando uma lista vazia\n",
    "LISTA = []\n",
    "\n",
    "# Criando uma lista por meio de um método, construtor de listas\n",
    "L = list()"
   ]
  },
  {
   "cell_type": "code",
   "execution_count": 4,
   "metadata": {},
   "outputs": [
    {
     "name": "stdout",
     "output_type": "stream",
     "text": [
      "3\n",
      "1\n",
      "10\n"
     ]
    }
   ],
   "source": [
    "# Lista com 3 elementos, toda lista usa-se colchete\n",
    "\n",
    "dias = [3, 1, 10]\n",
    "dias[0] # pega a lista dias e traga o elemento do índice zero\n",
    "\n",
    "print(dias[0])\n",
    "print(dias[1])\n",
    "print(dias[2])"
   ]
  },
  {
   "cell_type": "code",
   "execution_count": 25,
   "metadata": {},
   "outputs": [
    {
     "name": "stdout",
     "output_type": "stream",
     "text": [
      "6\n",
      "6\n",
      "True\n",
      "True\n",
      "[100, 7, 8, 9]\n",
      "[100, 7, 8, 9]\n"
     ]
    }
   ],
   "source": [
    "# Não é uma cópia, é um ponteiro, as duas variáveis aponta para a mesma lista\n",
    "V = [6, 7, 8, 9]\n",
    "L = V\n",
    "\n",
    "print(V[0])\n",
    "print(L[0])\n",
    "\n",
    "print(V == L) # Compara conteúdo dentro dos dois\n",
    "print(V is L) # V é L ? Sim\n",
    "\n",
    "L[0] = 100\n",
    "\n",
    "print(V)\n",
    "print(L)"
   ]
  },
  {
   "cell_type": "code",
   "execution_count": 22,
   "metadata": {},
   "outputs": [
    {
     "name": "stdout",
     "output_type": "stream",
     "text": [
      "True\n",
      "False\n",
      "[81, 82, 83]\n",
      "[5, 82, 83]\n",
      "82\n"
     ]
    }
   ],
   "source": [
    "# Clonando Listas\n",
    "\n",
    "A = [81, 82, 83]\n",
    "# Criando uma cópia\n",
    "B = A[:] # cria um clone com fatia, clonando A, A tem conteúdo de B, mas não são a mesma coisa\n",
    "\n",
    "print(A == B) # compara conteúdo dentro dos dois (A e B)\n",
    "\n",
    "print(A is B) # A é B ? Não\n",
    "\n",
    "B[0] = 5\n",
    "\n",
    "print(A)\n",
    "\n",
    "print(B)\n",
    "\n",
    "# A gente cria uma cópia da lista para não mexer como a original"
   ]
  },
  {
   "cell_type": "code",
   "execution_count": 30,
   "metadata": {},
   "outputs": [
    {
     "name": "stdout",
     "output_type": "stream",
     "text": [
      "['b', 'c']\n",
      "['a', 'b', 'c', 'd']\n",
      "['d', 'e', 'f']\n",
      "['a', 'b', 'c', 'd', 'e', 'f']\n"
     ]
    }
   ],
   "source": [
    " # POO = Uma string é um objeto, pois guarda caracteres\n",
    "\n",
    " lista_de_caracteres = ['a', 'b', 'c', 'd', 'e', 'f']\n",
    " \n",
    " print(lista_de_caracteres[1:3]) #pegue do índice 1 até o 3\n",
    " # vá até a porta (você não consegue ocupar até a porta, então vocÊ para antes dela)\n",
    "\n",
    " print(lista_de_caracteres[:4]) # imprimi tudo antes (desde o ínicio) até o quarto índice e imprimi o valor anterior\n",
    "\n",
    " print(lista_de_caracteres[3:]) # imprimi desde o terceiro índice e imprime todos os elementos até o final da lista\n",
    "\n",
    " print(lista_de_caracteres[:])"
   ]
  },
  {
   "cell_type": "code",
   "execution_count": 31,
   "metadata": {},
   "outputs": [
    {
     "ename": "IndexError",
     "evalue": "list index out of range",
     "output_type": "error",
     "traceback": [
      "\u001b[1;31m---------------------------------------------------------------------------\u001b[0m",
      "\u001b[1;31mIndexError\u001b[0m                                Traceback (most recent call last)",
      "Cell \u001b[1;32mIn[31], line 4\u001b[0m\n\u001b[0;32m      2\u001b[0m LISTA_SEGUNDA \u001b[38;5;241m=\u001b[39m LISTA_PRIMEIRA[:]\n\u001b[0;32m      3\u001b[0m LISTA_SEGUNDA[\u001b[38;5;241m0\u001b[39m] \u001b[38;5;241m=\u001b[39m \u001b[38;5;241m5\u001b[39m\n\u001b[1;32m----> 4\u001b[0m \u001b[38;5;28mprint\u001b[39m(\u001b[43mLISTA_PRIMEIRA\u001b[49m\u001b[43m[\u001b[49m\u001b[38;5;241;43m3\u001b[39;49m\u001b[43m]\u001b[49m)\n",
      "\u001b[1;31mIndexError\u001b[0m: list index out of range"
     ]
    }
   ],
   "source": [
    "LISTA_PRIMEIRA = [1, 2, 3]\n",
    "LISTA_SEGUNDA = LISTA_PRIMEIRA[:]\n",
    "LISTA_SEGUNDA[0] = 5\n",
    "print(LISTA_PRIMEIRA[3]) # o código deu erro,pois busca o índice 3 e não tem índice 3 na LISTA_PRIMEIRA\n"
   ]
  },
  {
   "cell_type": "code",
   "execution_count": 33,
   "metadata": {},
   "outputs": [
    {
     "name": "stdout",
     "output_type": "stream",
     "text": [
      "[76, 92.3, 'oi', True, 4, 76]\n",
      "[76, 92.3, 'oi', True, 4, 76, 'pitomba', 76]\n",
      "[76, 92.3, 'oi', 'Cibele', 4, 76, 'pitomba', 76]\n",
      "[99, 76, 92.3, 'oi', True, 4, 76, 'pitomba', 76]\n",
      "Opa4\n",
      "[99, 76, 92.3, 'oi', 4, 76, 'pitomba', 76]\n"
     ]
    }
   ],
   "source": [
    "# Cria uma lista chamada minhaLista com os seguinte itens: 76, 92.3, \"oi\", True. 4, 76. Depois execute os seguintes comandos:\n",
    "minhaLista = [76, 92.3, \"oi\", True, 4, 76]\n",
    "print(minhaLista)\n",
    "\n",
    "# a) inserir \"pitomba\" e 76 no final da lista\n",
    "minhaLista = minhaLista + ['pitomba'] + [76]\n",
    "print(minhaLista)\n",
    "\n",
    "# b) inserir o valor \"Cibele\" na posição de índice 3\n",
    "minhaLista2 = minhaLista[:]\n",
    "minhaLista2[3] = \"Cibele\"\n",
    "print(minhaLista2)\n",
    "\n",
    "# c) Inserir o valor 99 no ínicio da lista\n",
    "minhaLista = [99] + minhaLista\n",
    "print(minhaLista)\n",
    "\n",
    "# d) Encontrar o índice de \"oi\"\n",
    "if minhaLista[0] == 'oi':\n",
    "    print('OPA')\n",
    "elif minhaLista[1] == 'oi':\n",
    "    print('OPAA')\n",
    "elif minhaLista[2] == 'oi':\n",
    "    print('Opaaa')\n",
    "elif minhaLista[3] == 'oi':\n",
    "    print('O índice da lista é 3')\n",
    "else:\n",
    "    print('Não conseguiu')\n",
    "\n",
    "# e) Remover True da lista\n",
    "outra_lista = minhaLista[:]\n",
    "print(outra_lista[: - True * 5] + minhaLista[5:])\n",
    "#if outra_lista[:] == True:\n",
    "#    outra_lista - True\n",
    "#print(outra_lista - True)\n",
    "\n",
    "\n"
   ]
  }
 ],
 "metadata": {
  "kernelspec": {
   "display_name": "Python 3",
   "language": "python",
   "name": "python3"
  },
  "language_info": {
   "codemirror_mode": {
    "name": "ipython",
    "version": 3
   },
   "file_extension": ".py",
   "mimetype": "text/x-python",
   "name": "python",
   "nbconvert_exporter": "python",
   "pygments_lexer": "ipython3",
   "version": "3.11.9"
  }
 },
 "nbformat": 4,
 "nbformat_minor": 2
}
