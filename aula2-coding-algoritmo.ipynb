{
 "cells": [
  {
   "cell_type": "code",
   "execution_count": 1,
   "metadata": {},
   "outputs": [
    {
     "name": "stdout",
     "output_type": "stream",
     "text": [
      "Hello World!\n"
     ]
    }
   ],
   "source": [
    "print(\"Hello World!\") # as aspas pode ser simples ou dupla, tanto faz\n",
    "# as aspas servem para salvar (incluir) o texto"
   ]
  },
  {
   "cell_type": "code",
   "execution_count": null,
   "metadata": {},
   "outputs": [],
   "source": [
    "pessoa = \"Gabriel\"\n",
    "\n",
    "\n",
    "# A gaveta neste caso é pessoa"
   ]
  },
  {
   "cell_type": "code",
   "execution_count": null,
   "metadata": {},
   "outputs": [],
   "source": [
    "Pessoa = \"Camila\"\n",
    "\n",
    "# Não iniciar nome de variáveis com letras maiúsculas"
   ]
  },
  {
   "cell_type": "code",
   "execution_count": null,
   "metadata": {},
   "outputs": [],
   "source": [
    "inicio = 0\n",
    "\n",
    "# Não devo usar caracteres da língua portuguesa nas variáveis\n",
    "# interopibilidade (pesquisar depois)"
   ]
  },
  {
   "cell_type": "code",
   "execution_count": null,
   "metadata": {},
   "outputs": [],
   "source": [
    "idade = 19"
   ]
  },
  {
   "cell_type": "code",
   "execution_count": 12,
   "metadata": {},
   "outputs": [
    {
     "name": "stdout",
     "output_type": "stream",
     "text": [
      "Meiki 19 1.75 True\n",
      "<class 'str'> <class 'int'> <class 'float'> <class 'bool'>\n"
     ]
    },
    {
     "data": {
      "text/plain": [
       "float"
      ]
     },
     "execution_count": 12,
     "metadata": {},
     "output_type": "execute_result"
    }
   ],
   "source": [
    "pessoa = \"Meiki\"\n",
    "idade = 19\n",
    "altura = 1.75\n",
    "dev = True\n",
    "\n",
    "print(pessoa, idade, altura, dev)\n",
    "print(type(pessoa), type(idade), type(altura), type(dev)) # tudo no python é um objeto, no final todo método resulta numa classe.\n",
    "\n",
    "type(pessoa)"
   ]
  },
  {
   "cell_type": "code",
   "execution_count": 15,
   "metadata": {},
   "outputs": [
    {
     "data": {
      "text/plain": [
       "int"
      ]
     },
     "execution_count": 15,
     "metadata": {},
     "output_type": "execute_result"
    }
   ],
   "source": [
    "type(idade)"
   ]
  },
  {
   "cell_type": "code",
   "execution_count": 14,
   "metadata": {},
   "outputs": [
    {
     "data": {
      "text/plain": [
       "float"
      ]
     },
     "execution_count": 14,
     "metadata": {},
     "output_type": "execute_result"
    }
   ],
   "source": [
    "type(altura)"
   ]
  },
  {
   "cell_type": "code",
   "execution_count": 13,
   "metadata": {},
   "outputs": [
    {
     "data": {
      "text/plain": [
       "bool"
      ]
     },
     "execution_count": 13,
     "metadata": {},
     "output_type": "execute_result"
    }
   ],
   "source": [
    "type(dev)"
   ]
  },
  {
   "cell_type": "code",
   "execution_count": null,
   "metadata": {},
   "outputs": [],
   "source": [
    "# Comentar uma linha\n",
    "\n",
    "# Nunca delete um comentário, só quando tiver o produto pronto\n",
    "\n",
    "\"\"\"Para comentar mais de uma linha ou um código maior que uma linha,\n",
    "basta selecionar o código, clicar em SHIFT ao mesmo tempo digitando três aspas,\n",
    "como o exemplo\"\"\"\n",
    "\n",
    "\"\"\"Seleciona o texto, clica em shift e pressiona as três aspas\"\"\""
   ]
  },
  {
   "cell_type": "code",
   "execution_count": 19,
   "metadata": {},
   "outputs": [
    {
     "data": {
      "text/plain": [
       "55"
      ]
     },
     "execution_count": 19,
     "metadata": {},
     "output_type": "execute_result"
    }
   ],
   "source": [
    "# Operações com variáveis\n",
    "\n",
    "idade1 = 20\n",
    "idade2 = 35"
   ]
  },
  {
   "cell_type": "code",
   "execution_count": 20,
   "metadata": {},
   "outputs": [
    {
     "data": {
      "text/plain": [
       "55"
      ]
     },
     "execution_count": 20,
     "metadata": {},
     "output_type": "execute_result"
    }
   ],
   "source": [
    "idade1 + idade2"
   ]
  },
  {
   "cell_type": "code",
   "execution_count": 21,
   "metadata": {},
   "outputs": [],
   "source": [
    "soma = idade1 + idade2"
   ]
  },
  {
   "cell_type": "code",
   "execution_count": 22,
   "metadata": {},
   "outputs": [
    {
     "name": "stdout",
     "output_type": "stream",
     "text": [
      "55\n"
     ]
    }
   ],
   "source": [
    "print(soma)"
   ]
  },
  {
   "cell_type": "code",
   "execution_count": 23,
   "metadata": {},
   "outputs": [
    {
     "name": "stdout",
     "output_type": "stream",
     "text": [
      "30 5 80 4.0\n"
     ]
    }
   ],
   "source": [
    "soma = idade1 + 10\n",
    "subtrair = idade1 - 15\n",
    "multiplicar = idade1 * 4\n",
    "dividir = idade1 / 5\n",
    "\n",
    "print(soma, subtrair, multiplicar, dividir)"
   ]
  },
  {
   "cell_type": "code",
   "execution_count": 29,
   "metadata": {},
   "outputs": [
    {
     "name": "stdout",
     "output_type": "stream",
     "text": [
      "1.5\n",
      "1\n",
      "1\n",
      "0\n",
      "2\n"
     ]
    }
   ],
   "source": [
    "print(3 / 2) # Divisão\n",
    "\n",
    "print(3 // 2) # Divisão considerando só a parte inteira.\n",
    "\n",
    "divisao_com_resto = 4 % 3\n",
    "print(divisao_com_resto)\n",
    "\n",
    "print (4 % 2) # Resto da divisão, 4 dividido por 2 tem resto 0.\n",
    "\n",
    "print(5 % 3) # Resto da divisão. 5 dividido por 3 tem resto 2."
   ]
  }
 ],
 "metadata": {
  "kernelspec": {
   "display_name": "Python 3",
   "language": "python",
   "name": "python3"
  },
  "language_info": {
   "codemirror_mode": {
    "name": "ipython",
    "version": 3
   },
   "file_extension": ".py",
   "mimetype": "text/x-python",
   "name": "python",
   "nbconvert_exporter": "python",
   "pygments_lexer": "ipython3",
   "version": "3.11.4"
  }
 },
 "nbformat": 4,
 "nbformat_minor": 2
}
