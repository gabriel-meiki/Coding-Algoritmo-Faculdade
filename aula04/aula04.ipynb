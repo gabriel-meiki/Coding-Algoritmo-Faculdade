{
 "cells": [
  {
   "cell_type": "code",
   "execution_count": 1,
   "metadata": {},
   "outputs": [
    {
     "name": "stdout",
     "output_type": "stream",
     "text": [
      "O número informado foi 12.0\n"
     ]
    }
   ],
   "source": [
    "numero = float(input('Digite um número: '))\n",
    "print(f'O número escolhido foi {numero}')"
   ]
  },
  {
   "cell_type": "code",
   "execution_count": 2,
   "metadata": {},
   "outputs": [
    {
     "name": "stdout",
     "output_type": "stream",
     "text": [
      "A soma do número 12.0 e do número 14.0 é 26.0\n"
     ]
    }
   ],
   "source": [
    "# faça um código que pede dois números\n",
    "\n",
    "numero1 = float(input('Digite um número: '))\n",
    "numero2 = float(input('Digite outro número: '))\n",
    "resultado = numero1 + numero2\n",
    "\n",
    "#imprime a soma\n",
    "\n",
    "print(f'A soma do número {numero1} e do número {numero2} é {resultado}')"
   ]
  },
  {
   "cell_type": "code",
   "execution_count": 4,
   "metadata": {},
   "outputs": [
    {
     "name": "stdout",
     "output_type": "stream",
     "text": [
      "Com a nota 4.0, 4.0 e 4.0, a média será 4.0\n"
     ]
    }
   ],
   "source": [
    "# Faça um programa que peça 3 notas e mostre a média\n",
    "\n",
    "# Pedindo notas\n",
    "nota1 = float(input('Digite sua primeira nota: '))\n",
    "nota2 = float(input('Digite sua segunda nota: '))\n",
    "nota3 = float(input('Digite sua terceira nota: '))\n",
    "\n",
    "# Fazendo a média\n",
    "media = (nota1 + nota2 + nota3) / 3\n",
    "\n",
    "# Mostrando a média\n",
    "print(f'Com a nota {nota1}, {nota2} e {nota3}, a média será {media}')"
   ]
  },
  {
   "cell_type": "code",
   "execution_count": 5,
   "metadata": {},
   "outputs": [
    {
     "name": "stdout",
     "output_type": "stream",
     "text": [
      "O seu salário vale R$144.0\n"
     ]
    }
   ],
   "source": [
    "# guardar os valores do valor da hora e quantas horas trabalhadas por mês\n",
    "valor_hora = float(input('Quanto você ganha por hora? '))\n",
    "horas = float(input('Quantas horas você trabalha por mês? '))\n",
    "\n",
    "# calculo do salário\n",
    "salario_mes = valor_hora * horas\n",
    "\n",
    "# Mensagem em relação ao valor do salário recebido por mês.\n",
    "print(f'O seu salário vale R${salario_mes}')"
   ]
  },
  {
   "cell_type": "code",
   "execution_count": 7,
   "metadata": {},
   "outputs": [
    {
     "name": "stdout",
     "output_type": "stream",
     "text": [
      "Você não possui multa, parabéns!!!\n"
     ]
    }
   ],
   "source": [
    "# Pedindo a quantidade de quilos que o pescador pescou\n",
    "peso_peixes = float(input('Digite a quantidade de quilos de peixe você pescou: '))\n",
    "\n",
    "# Condição caso a quantidade de quilos pescada seja maior que 50 quilos\n",
    "if (peso_peixes > 50):\n",
    "    excesso = peso_peixes - 50\n",
    "    multa = excesso * 4\n",
    "    print(f'A sua multa equivale a R${multa} porque excedeu {excesso} quilos do estabelecido')\n",
    "\n",
    "# Caso não seja desobedecido a quantidade dos 50 quilos\n",
    "else:\n",
    "    print('Você não possui multa, parabéns!!!')\n",
    "    "
   ]
  }
 ],
 "metadata": {
  "kernelspec": {
   "display_name": "Python 3",
   "language": "python",
   "name": "python3"
  },
  "language_info": {
   "codemirror_mode": {
    "name": "ipython",
    "version": 3
   },
   "file_extension": ".py",
   "mimetype": "text/x-python",
   "name": "python",
   "nbconvert_exporter": "python",
   "pygments_lexer": "ipython3",
   "version": "3.11.9"
  }
 },
 "nbformat": 4,
 "nbformat_minor": 2
}
