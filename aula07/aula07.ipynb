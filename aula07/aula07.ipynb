{
 "cells": [
  {
   "cell_type": "code",
   "execution_count": 1,
   "metadata": {},
   "outputs": [
    {
     "name": "stdout",
     "output_type": "stream",
     "text": [
      "Estamos no elemento  S\n",
      "Estamos no elemento  T\n",
      "Estamos no elemento  R\n",
      "Estamos no elemento  I\n",
      "Estamos no elemento  N\n",
      "Estamos no elemento  G\n"
     ]
    }
   ],
   "source": [
    "# Estrutura de Repetição - for\n",
    "\n",
    "\n",
    "for elemento in 'STRING':\n",
    "    print('Estamos no elemento ', elemento)"
   ]
  },
  {
   "cell_type": "code",
   "execution_count": 2,
   "metadata": {},
   "outputs": [
    {
     "name": "stdout",
     "output_type": "stream",
     "text": [
      "estamos no elemento  0\n",
      "estamos no elemento  1\n",
      "estamos no elemento  2\n",
      "estamos no elemento  3\n",
      "estamos no elemento  4\n",
      "estamos no elemento  5\n"
     ]
    }
   ],
   "source": [
    "# Método é diferente de Função\n",
    "# .metodo é diferente função(alguma-coisa)\n",
    "\n",
    "for elemento in range (len('STRING')):\n",
    "    print('estamos no elemento ', elemento)"
   ]
  },
  {
   "cell_type": "code",
   "execution_count": 3,
   "metadata": {},
   "outputs": [
    {
     "name": "stdout",
     "output_type": "stream",
     "text": [
      "0\n",
      "1\n",
      "2\n",
      "3\n",
      "4\n",
      "5\n",
      "6\n"
     ]
    }
   ],
   "source": [
    "elemento = 0\n",
    "\n",
    "while elemento <= len([1, 2, 3, 4, 5, 6]):\n",
    "    print(elemento)\n",
    "    elemento += 1"
   ]
  },
  {
   "cell_type": "code",
   "execution_count": 10,
   "metadata": {},
   "outputs": [
    {
     "name": "stdout",
     "output_type": "stream",
     "text": [
      "Estamos no elemento  gabriel\n",
      "Estamos no elemento  guilherme\n"
     ]
    }
   ],
   "source": [
    "s = ['gabriel', 'guilherme'] \n",
    "indice = 0 \n",
    "\n",
    "while indice in range (len (s)):\n",
    "    print('Estamos no elemento ', s[indice])\n",
    "    indice += 1"
   ]
  },
  {
   "cell_type": "code",
   "execution_count": 16,
   "metadata": {},
   "outputs": [
    {
     "name": "stdout",
     "output_type": "stream",
     "text": [
      "t 0\n",
      "r 1\n",
      "a 2\n",
      "n 3\n",
      "q 4\n",
      "u 5\n",
      "i 6\n",
      "l 7\n",
      "o 8\n"
     ]
    }
   ],
   "source": [
    "# Função enumerate()\n",
    "\n",
    "# Cria duas varipaveis, vai criar um indice para cada valor.\n",
    "\n",
    "# A primeira variável é para guardar os indices da lista\n",
    "\n",
    "# A segunda variável é para guardar os valores de cada ínidice\n",
    "\n",
    "palavra = 'tranquilo'\n",
    "\n",
    "for indice, letra in enumerate(palavra):\n",
    "    print(letra, indice)"
   ]
  },
  {
   "cell_type": "code",
   "execution_count": 44,
   "metadata": {},
   "outputs": [
    {
     "name": "stdout",
     "output_type": "stream",
     "text": [
      "<enumerate object at 0x000002ABC556A5C0>\n",
      "<enumerate object at 0x000002ABC4739AD0>\n",
      "Tipo: <class 'enumerate'>\n",
      "[(0, 'comer'), (1, 'sleep'), (2, 'repetição')]\n"
     ]
    }
   ],
   "source": [
    "# Função Enumarate\n",
    "\n",
    "lista = ['comer', 'sleep', 'repetição']\n",
    "\n",
    "palavra = 'geek'\n",
    "\n",
    "objeto1 = enumerate(lista)\n",
    "objeto2 = enumerate(palavra)\n",
    "\n",
    "print(objeto1)\n",
    "print(objeto2)\n",
    "\n",
    "print(f'Tipo: {type(objeto1)}')\n",
    "print(list(enumerate(lista)))\n",
    "\n"
   ]
  },
  {
   "cell_type": "code",
   "execution_count": 46,
   "metadata": {},
   "outputs": [
    {
     "name": "stdout",
     "output_type": "stream",
     "text": [
      "oii\n",
      "oii\n",
      "oii\n",
      "oii\n",
      "oii\n",
      "oii\n",
      "oii\n",
      "oii\n",
      "oii\n",
      "oii\n",
      "oii\n",
      "oii\n",
      "oii\n"
     ]
    }
   ],
   "source": [
    "# Para cada ch (elemento) de s, faça print('oii)\n",
    "\n",
    "s = 'viva o python'\n",
    "for ch in s:\n",
    "    print('oii')"
   ]
  },
  {
   "cell_type": "code",
   "execution_count": null,
   "metadata": {},
   "outputs": [],
   "source": [
    "s = 'viva o python'\n",
    "for ch in s[3:8]:\n",
    "    print('oii')"
   ]
  },
  {
   "cell_type": "code",
   "execution_count": 53,
   "metadata": {},
   "outputs": [
    {
     "name": "stdout",
     "output_type": "stream",
     "text": [
      "numero é impar 1\n",
      "A soma dos números 2\n",
      "numero é par 2\n",
      "numero é par 4\n",
      "numero é impar 5\n",
      "A soma dos números 10\n"
     ]
    }
   ],
   "source": [
    "# Faça um programa que peça 10 números inteiros, calcule e mostre a quantidade de números pares e a quantidade de números impares\n",
    "\n",
    "for i in range(4):\n",
    "    numero = int(input('Digite um número: '))\n",
    "    if (numero % 2 == 0):\n",
    "        print(f'numero é par {numero}')\n",
    "        numero += numero\n",
    "    else:\n",
    "        print(f'numero é impar {numero}')\n",
    "        numero += numero\n",
    "        print(f'A soma dos números {numero}')\n",
    "    "
   ]
  },
  {
   "cell_type": "code",
   "execution_count": null,
   "metadata": {},
   "outputs": [],
   "source": []
  }
 ],
 "metadata": {
  "kernelspec": {
   "display_name": "Python 3",
   "language": "python",
   "name": "python3"
  },
  "language_info": {
   "codemirror_mode": {
    "name": "ipython",
    "version": 3
   },
   "file_extension": ".py",
   "mimetype": "text/x-python",
   "name": "python",
   "nbconvert_exporter": "python",
   "pygments_lexer": "ipython3",
   "version": "3.11.9"
  }
 },
 "nbformat": 4,
 "nbformat_minor": 2
}
